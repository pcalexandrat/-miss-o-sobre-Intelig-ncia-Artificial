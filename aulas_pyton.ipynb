{
  "nbformat": 4,
  "nbformat_minor": 0,
  "metadata": {
    "colab": {
      "provenance": [],
      "authorship_tag": "ABX9TyOu9zZ8hvHiLpXtqNWBd3nv",
      "include_colab_link": true
    },
    "kernelspec": {
      "name": "python3",
      "display_name": "Python 3"
    },
    "language_info": {
      "name": "python"
    }
  },
  "cells": [
    {
      "cell_type": "markdown",
      "metadata": {
        "id": "view-in-github",
        "colab_type": "text"
      },
      "source": [
        "<a href=\"https://colab.research.google.com/github/pcalexandrat/-miss-o-sobre-Intelig-ncia-Artificial/blob/main/aulas_pyton.ipynb\" target=\"_parent\"><img src=\"https://colab.research.google.com/assets/colab-badge.svg\" alt=\"Open In Colab\"/></a>"
      ]
    },
    {
      "cell_type": "markdown",
      "source": [
        "aula 1\n"
      ],
      "metadata": {
        "id": "0UaMs2QPEQHt"
      }
    },
    {
      "cell_type": "markdown",
      "source": [],
      "metadata": {
        "id": "fHn4dPyuEdII"
      }
    },
    {
      "cell_type": "code",
      "source": [
        "ano = \"II\"\n"
      ],
      "metadata": {
        "id": "ZhvWhLl575pN"
      },
      "execution_count": null,
      "outputs": []
    },
    {
      "cell_type": "code",
      "execution_count": null,
      "metadata": {
        "id": "uA6c27jU4AtF"
      },
      "outputs": [],
      "source": []
    },
    {
      "cell_type": "code",
      "source": [
        "print(\"I competição de programação dá Start\")\n"
      ],
      "metadata": {
        "colab": {
          "base_uri": "https://localhost:8080/"
        },
        "id": "4xARtlZl7vMR",
        "outputId": "ad0038b6-b833-4b5e-a9ee-ef1008f53d07"
      },
      "execution_count": null,
      "outputs": [
        {
          "output_type": "stream",
          "name": "stdout",
          "text": [
            "I competição de programação dá Start\n"
          ]
        }
      ]
    },
    {
      "cell_type": "code",
      "source": [
        "print(f\"{ano} competição de programação da Start\")\n"
      ],
      "metadata": {
        "colab": {
          "base_uri": "https://localhost:8080/"
        },
        "id": "UggSN3sn8Mz8",
        "outputId": "384fb31d-9cc9-4a0f-b059-9a4d64a431fb"
      },
      "execution_count": null,
      "outputs": [
        {
          "output_type": "stream",
          "name": "stdout",
          "text": [
            "II competição de programação da Start\n"
          ]
        }
      ]
    },
    {
      "cell_type": "code",
      "source": [
        "competicao = (\"competição de programação dá Start\")"
      ],
      "metadata": {
        "id": "R8qudT1c8iPz"
      },
      "execution_count": null,
      "outputs": []
    },
    {
      "cell_type": "code",
      "source": [
        "local = (\"Turvo\")"
      ],
      "metadata": {
        "id": "oaxEMGj18s8a"
      },
      "execution_count": null,
      "outputs": []
    },
    {
      "cell_type": "code",
      "source": [
        "print(f\"{competicao}\")"
      ],
      "metadata": {
        "colab": {
          "base_uri": "https://localhost:8080/"
        },
        "id": "L0RfguZHDiPE",
        "outputId": "eec52621-6394-46eb-9b8d-97a3140a6c44"
      },
      "execution_count": null,
      "outputs": [
        {
          "output_type": "stream",
          "name": "stdout",
          "text": [
            "competição de programação dá Start\n"
          ]
        }
      ]
    },
    {
      "cell_type": "code",
      "source": [
        "print(f\"{local}\")\n"
      ],
      "metadata": {
        "colab": {
          "base_uri": "https://localhost:8080/"
        },
        "id": "BcWFor7y8w4H",
        "outputId": "0ae679d2-cee6-4f86-d76c-12de93137ae3"
      },
      "execution_count": null,
      "outputs": [
        {
          "output_type": "stream",
          "name": "stdout",
          "text": [
            "Turvo\n"
          ]
        }
      ]
    },
    {
      "cell_type": "code",
      "source": [
        "print(f\"{ano} {competicao}  em {local}\")"
      ],
      "metadata": {
        "colab": {
          "base_uri": "https://localhost:8080/"
        },
        "id": "QF_hj9DSDFz4",
        "outputId": "b8029ae7-2285-4210-d55f-3f86ed0294ec"
      },
      "execution_count": null,
      "outputs": [
        {
          "output_type": "stream",
          "name": "stdout",
          "text": [
            "II competição de programação dá Start  em Turvo\n"
          ]
        }
      ]
    },
    {
      "cell_type": "markdown",
      "source": [
        "aula 2\n"
      ],
      "metadata": {
        "id": "qRReN1VXEfea"
      }
    },
    {
      "cell_type": "code",
      "source": [
        "livro_ficcao = 8\n",
        "livro_n_ficcao = 10\n",
        "livro_infantil = 6"
      ],
      "metadata": {
        "id": "6l75ztWhEh9B"
      },
      "execution_count": null,
      "outputs": []
    },
    {
      "cell_type": "code",
      "source": [
        "pontos_rodrigo = livro_ficcao + livro_n_ficcao + livro_infantil"
      ],
      "metadata": {
        "id": "YkWUAgsjE0ki"
      },
      "execution_count": null,
      "outputs": []
    },
    {
      "cell_type": "code",
      "source": [
        "print(f\"Os pontos totais do Rodrigo são {pontos_rodrigo}\")"
      ],
      "metadata": {
        "colab": {
          "base_uri": "https://localhost:8080/"
        },
        "id": "VZbUKf_OE5VL",
        "outputId": "5ec92f48-9411-4f5c-f1cd-8fca72d191c5"
      },
      "execution_count": null,
      "outputs": [
        {
          "output_type": "stream",
          "name": "stdout",
          "text": [
            "Os pontos totais do Rodrigo são 24\n"
          ]
        }
      ]
    },
    {
      "cell_type": "markdown",
      "source": [
        "exercicio 2"
      ],
      "metadata": {
        "id": "s7fcKUwlFwPh"
      }
    },
    {
      "cell_type": "code",
      "source": [
        "total_de_figurinhas = int(input(\"Digite o total de figurinhas: \"))\n",
        "numero_de_amigos = int(input(\"Digite o número de amigos: \"))\n",
        "figurinhas_extras = int(input(\"Digite o número de figurinhas extras: \"))\n",
        "figurinhas_amigos = (total_de_figurinhas + figurinhas_extras) // (numero_de_amigos + 2)\n",
        "figurinhas_joao = 2* figurinhas_amigos\n",
        "print(f\"João recebeu {figurinhas_joao} figurinhas\")\n",
        "figurinhas_doar = int(input(\"Digite o total de figurinhas que deseja doar: \"))\n",
        "figurinhas_joao = figurinhas_joao - figurinhas_doar\n",
        "print(f\"João ficou com {figurinhas_joao} figurinhas\")\n"
      ],
      "metadata": {
        "colab": {
          "base_uri": "https://localhost:8080/"
        },
        "id": "JUnTOkZZFzKl",
        "outputId": "77c4edc1-3838-47a8-f168-cd292eea0b2c"
      },
      "execution_count": null,
      "outputs": [
        {
          "output_type": "stream",
          "name": "stdout",
          "text": [
            "Digite o total de figurinhas: 100\n",
            "Digite o número de amigos: 5\n",
            "Digite o número de figurinhas extras: 20\n",
            "João recebeu 34 figurinhas\n",
            "Digite o total de figurinhas que deseja doar: 7\n",
            "João ficou com 27 figurinhas\n"
          ]
        }
      ]
    },
    {
      "cell_type": "code",
      "source": [
        "numero_de_amigos = int(input(\"Digite o número de amigos: \"))"
      ],
      "metadata": {
        "colab": {
          "base_uri": "https://localhost:8080/"
        },
        "id": "x_riblZHF5da",
        "outputId": "b1534573-e3b6-4a60-c897-4d050344a7e8"
      },
      "execution_count": null,
      "outputs": [
        {
          "name": "stdout",
          "output_type": "stream",
          "text": [
            "Digite o número de amigos: 5\n"
          ]
        }
      ]
    },
    {
      "cell_type": "code",
      "source": [
        "total_de_figurinhas"
      ],
      "metadata": {
        "colab": {
          "base_uri": "https://localhost:8080/"
        },
        "id": "rGyOekKQGfpa",
        "outputId": "64cc2733-d77e-4876-f4f5-829922a4ae94"
      },
      "execution_count": null,
      "outputs": [
        {
          "output_type": "execute_result",
          "data": {
            "text/plain": [
              "100"
            ]
          },
          "metadata": {},
          "execution_count": 4
        }
      ]
    },
    {
      "cell_type": "code",
      "source": [
        "figurinhas_amigos = total_de_figurinhas // (numero_de_amigos + 2)"
      ],
      "metadata": {
        "id": "c8ibY1eRF5bt"
      },
      "execution_count": null,
      "outputs": []
    }
  ]
}